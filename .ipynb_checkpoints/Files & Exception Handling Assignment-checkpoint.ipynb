{
 "cells": [
  {
   "cell_type": "code",
   "execution_count": null,
   "id": "06dc20cc-78a7-4cf3-870d-52bb1331da8c",
   "metadata": {},
   "outputs": [],
   "source": [
    "\"\"\"\n",
    "Q1) Discuss the scenarios where multithreading is preferable to multiprocessing and scenarios where multiprocessing is a better choice.\n",
    "Answer-\n",
    "    Multithreading is suitable for tasks where multiple threads can share the same memory space and work together on a task. It’s ideal for\n",
    "    I/O-bound tasks, where the program spends more time waiting on input/output operations than performing computation. \n",
    "    Multithreading is preferable when:\n",
    "    1) The task is I/O-bound (e.g., web scraping, file I/O, network requests).\n",
    "    2) Memory efficiency is needed, and threads can share memory space.\n",
    "    3) Tasks require lower CPU utilization, and concurrent execution is necessary to keep the program responsive.\n",
    "    \n",
    "    Multiprocessing is more suitable for CPU-bound tasks that require significant computation and benefit from running in parallel on \n",
    "    multiple processors or cores. \n",
    "    Multiprocessing is preferable when:\n",
    "    1) The task is CPU-bound (e.g., computational tasks, data processing).\n",
    "    2) Memory isolation is required, and shared memory or synchronization is complex to manage.\n",
    "    3) You want to leverage multiple CPU cores, especially in Python, to bypass the GIL for parallel processing.\n",
    "    \n",
    "    Choosing between these two approaches depends on the specific requirements of your task—whether it's more I/O or CPU intensive, and how\n",
    "    important memory sharing or isolation is.\n",
    "\"\"\""
   ]
  },
  {
   "cell_type": "code",
   "execution_count": 1,
   "id": "e8bdf2d4-beb1-4ad0-87ff-365ec1198e57",
   "metadata": {},
   "outputs": [
    {
     "name": "stdout",
     "output_type": "stream",
     "text": [
      "Thread A: Starting\n",
      "Thread B: Starting\n",
      "Thread A: Finished after 2 seconds\n",
      "Thread B: Finished after 3 seconds\n",
      "Both threads completed\n"
     ]
    }
   ],
   "source": [
    "#Multithreading Example:\n",
    "#This example simulates a task that is I/O-bound (e.g., waiting for data to be read).\n",
    "import threading\n",
    "import time\n",
    "\n",
    "def perform_io_task(name, duration):\n",
    "    print(f\"Thread {name}: Starting\")\n",
    "    time.sleep(duration)  \n",
    "    print(f\"Thread {name}: Finished after {duration} seconds\")\n",
    "\n",
    "thread1 = threading.Thread(target=perform_io_task, args=(\"A\", 2))\n",
    "thread2 = threading.Thread(target=perform_io_task, args=(\"B\", 3))\n",
    "\n",
    "# Start the threads\n",
    "thread1.start()\n",
    "thread2.start()\n",
    "\n",
    "thread1.join()\n",
    "thread2.join()\n",
    "\n",
    "print(\"Both threads completed\")"
   ]
  },
  {
   "cell_type": "code",
   "execution_count": 2,
   "id": "eedce324-5ffd-4bf6-a0ea-4119415f3e78",
   "metadata": {},
   "outputs": [
    {
     "name": "stdout",
     "output_type": "stream",
     "text": [
      "Process A: Starting\n",
      "Process B: Starting\n",
      "Process A: Finished with result 4\n",
      "Process B: Finished with result 9\n",
      "Both processes completed\n"
     ]
    }
   ],
   "source": [
    "#Multiprocessing Example:\n",
    "#This example simulates a CPU-bound task, such as performing some calculations.\n",
    "from multiprocessing import Process\n",
    "import time\n",
    "\n",
    "def perform_cpu_task(name, duration):\n",
    "    print(f\"Process {name}: Starting\")\n",
    "    time.sleep(duration)  \n",
    "    result = duration ** 2  \n",
    "    print(f\"Process {name}: Finished with result {result}\")\n",
    "\n",
    "process1 = Process(target=perform_cpu_task, args=(\"A\", 2))\n",
    "process2 = Process(target=perform_cpu_task, args=(\"B\", 3))\n",
    "\n",
    "process1.start()\n",
    "process2.start()\n",
    "\n",
    "process1.join()\n",
    "process2.join()\n",
    "\n",
    "print(\"Both processes completed\")"
   ]
  },
  {
   "cell_type": "code",
   "execution_count": null,
   "id": "ae939080-a79c-4293-abd6-da4da5b509eb",
   "metadata": {},
   "outputs": [],
   "source": [
    "\"\"\"\n",
    "Q2) Describe what a process pool is and how it helps in managing multiple processes efficiently.\n",
    "Answer-\n",
    "    A process pool is a mechanism used to manage a collection of processes that can be reused for executing tasks in parallel, making the \n",
    "    process of managing multiple tasks more efficient. Instead of creating and destroying a new process for each task, a pool of pre-created\n",
    "    processes is maintained, which can be reused, reducing the overhead of process creation and teardown.\n",
    "    Benefits of Using a Process Pool:\n",
    "    1) Reduced Overhead:\n",
    "       Process creation and destruction are expensive operations (due to the need to allocate resources like memory and CPU time). \n",
    "       By reusing existing processes, the pool eliminates this overhead, resulting in faster task execution.\n",
    "    \n",
    "    2) Simplified Management:\n",
    "       The pool abstracts the complexity of creating, managing, and terminating processes. Developers can focus on submitting tasks rather\n",
    "       than managing individual processes.\n",
    "\n",
    "    3) Efficient Parallel Execution:\n",
    "       Process pools allow multiple tasks to run in parallel, utilizing multiple CPU cores effectively, especially in CPU-bound tasks.\n",
    "\n",
    "    4) Automatic Load Balancing:\n",
    "       The process pool automatically distributes tasks across available processes. If one process is busy, the pool assigns the next task \n",
    "       to an idle process, ensuring even distribution of tasks.\n",
    "\n",
    "    5) Controlled Concurrency:\n",
    "       By limiting the number of worker processes to a predefined pool size, the system avoids over-provisioning processes, which could \n",
    "       lead to resource exhaustion or inefficient context switching."
   ]
  },
  {
   "cell_type": "code",
   "execution_count": 3,
   "id": "2f80027f-b3b8-4130-b0da-487949eba94d",
   "metadata": {},
   "outputs": [
    {
     "name": "stdout",
     "output_type": "stream",
     "text": [
      "[1, 4, 9, 16, 25]\n"
     ]
    }
   ],
   "source": [
    "#Example of Using a Process Pool\n",
    "import multiprocessing\n",
    "\n",
    "def square(x):\n",
    "    return x * x\n",
    "\n",
    "if __name__ == \"__main__\":\n",
    "   \n",
    "    pool = multiprocessing.Pool(processes=4)\n",
    "    \n",
    "    results = pool.map(square, [1, 2, 3, 4, 5])\n",
    "    \n",
    "    print(results)\n",
    "    \n",
    "    pool.close()\n",
    "    pool.join()"
   ]
  },
  {
   "cell_type": "code",
   "execution_count": null,
   "id": "59446be5-31e4-49b0-9cdf-97e475cd0865",
   "metadata": {},
   "outputs": [],
   "source": [
    "\"\"\"\n",
    "Q3) Explain what multiprocessing is and why it is used in Python programs.\n",
    "Answer-\n",
    "    Multiprocessing is the technique of using multiple independent processes to execute tasks in parallel, which helps in improving the \n",
    "    performance and efficiency of programs by taking full advantage of multi-core processors. Each process runs independently, with its own\n",
    "    memory space and resources, allowing tasks to be executed concurrently without interference from other processes. In Python, the\n",
    "    multiprocessing module provides the infrastructure for spawning and managing multiple processes.\n",
    "    \n",
    "    Key Components of multiprocessing Module -\n",
    "    1) Process Class:\n",
    "       The Process class is used to create and manage individual processes. You can create a new process, start it, and then join it back \n",
    "       into the main program when it's finished.\n",
    "    \n",
    "    2) Pool:\n",
    "       The Pool class allows you to manage a pool of worker processes and distribute tasks among them. The pool size is usually set to the\n",
    "       number of CPU cores, and tasks are automatically scheduled and balanced among the available processes.\n",
    "       \n",
    "    3) Pipes and Queues:\n",
    "       These allow communication between processes. Since each process has its own memory space, inter-process communication (IPC) is\n",
    "       necessary to share data between processes. Queue and Pipe objects provide mechanisms to send data between processes.\n",
    "    \n",
    "    Multiprocessing is Used in Python because -\n",
    "    Multiprocessing is particularly useful in Python because of the Global Interpreter Lock (GIL), a mechanism in the standard CPython \n",
    "    interpreter that restricts the execution of Python bytecode to one thread at a time per process, even on multi-core systems. \n",
    "    This makes multithreading less effective for CPU-bound tasks in Python, as threads are prevented from running in true parallel."
   ]
  },
  {
   "cell_type": "code",
   "execution_count": 4,
   "id": "b99683f2-5a5b-41b0-bdde-ecc4948b76c0",
   "metadata": {},
   "outputs": [
    {
     "name": "stdout",
     "output_type": "stream",
     "text": [
      "Hello World\n"
     ]
    }
   ],
   "source": [
    "#Process class\n",
    "from multiprocessing import Process\n",
    "\n",
    "def task(name):\n",
    "    print(f'Hello {name}')\n",
    "\n",
    "if __name__ == \"__main__\":\n",
    "    process = Process(target=task, args=('World',))\n",
    "    process.start()\n",
    "    process.join()"
   ]
  },
  {
   "cell_type": "code",
   "execution_count": 5,
   "id": "eff784d6-ad0b-40a0-97ae-7cff59054f1a",
   "metadata": {},
   "outputs": [
    {
     "name": "stdout",
     "output_type": "stream",
     "text": [
      "[1, 4, 9, 16]\n"
     ]
    }
   ],
   "source": [
    "#Pool\n",
    "from multiprocessing import Pool\n",
    "\n",
    "def square(x):\n",
    "    return x * x\n",
    "\n",
    "if __name__ == \"__main__\":\n",
    "    with Pool(4) as pool:  # Pool size of 4 processes\n",
    "        result = pool.map(square, [1, 2, 3, 4])\n",
    "    print(result)"
   ]
  },
  {
   "cell_type": "code",
   "execution_count": 6,
   "id": "6b572a7b-fa34-4e9c-b540-578d67770897",
   "metadata": {},
   "outputs": [
    {
     "name": "stdout",
     "output_type": "stream",
     "text": [
      "Hello from worker\n"
     ]
    }
   ],
   "source": [
    "#Pipes and Queues\n",
    "from multiprocessing import Process, Queue\n",
    "\n",
    "def worker(q):\n",
    "    q.put(\"Hello from worker\")\n",
    "\n",
    "if __name__ == \"__main__\":\n",
    "    q = Queue()\n",
    "    p = Process(target=worker, args=(q,))\n",
    "    p.start()\n",
    "    print(q.get())\n",
    "    p.join()"
   ]
  },
  {
   "cell_type": "code",
   "execution_count": 7,
   "id": "dcfe31af-b8bd-4864-b5e8-e7d95e7f0f34",
   "metadata": {},
   "outputs": [
    {
     "name": "stdout",
     "output_type": "stream",
     "text": [
      "Added 1 to the list. Current list: [1]\n",
      "Removed 1 from the list. Current list: []\n",
      "Added 2 to the list. Current list: [2]\n",
      "Added 3 to the list. Current list: [2, 3]\n",
      "Added 4 to the list. Current list: [2, 3, 4]\n",
      "Removed 2 from the list. Current list: [3, 4]\n",
      "Removed 3 from the list. Current list: [4]\n",
      "Removed 4 from the list. Current list: []\n",
      "Final list: []\n"
     ]
    }
   ],
   "source": [
    "\"\"\"\n",
    "Q4) Write a Python program using multithreading where one thread adds numbers to a list, and another thread removes numbers from the list. \n",
    "    Implement a mechanism to avoid race conditions using threading.Lock.\n",
    "Answer-\n",
    "\"\"\"\n",
    "import threading\n",
    "import time\n",
    "\n",
    "shared_list = []\n",
    "\n",
    "# lock object to avoid race conditions\n",
    "list_lock = threading.Lock()\n",
    "\n",
    "# Function to add numbers to the list\n",
    "def add_to_list():\n",
    "    for i in range(1, 5):  \n",
    "        time.sleep(0.5)\n",
    "        with list_lock:  \n",
    "            shared_list.append(i)\n",
    "            print(f\"Added {i} to the list. Current list: {shared_list}\")\n",
    "\n",
    "# Function to remove numbers from the list\n",
    "def remove_from_list():\n",
    "    for i in range(1, 5):  \n",
    "        time.sleep(1)  \n",
    "        with list_lock: \n",
    "            if shared_list:\n",
    "                removed_item = shared_list.pop(0)\n",
    "                print(f\"Removed {removed_item} from the list. Current list: {shared_list}\")\n",
    "            else:\n",
    "                print(\"List is empty, nothing to remove.\")\n",
    "\n",
    "# threads for adding and removing numbers\n",
    "adder_thread = threading.Thread(target=add_to_list)\n",
    "remover_thread = threading.Thread(target=remove_from_list)\n",
    "\n",
    "adder_thread.start()\n",
    "remover_thread.start()\n",
    "\n",
    "adder_thread.join()\n",
    "remover_thread.join()\n",
    "\n",
    "print(\"Final list:\", shared_list)"
   ]
  },
  {
   "cell_type": "code",
   "execution_count": null,
   "id": "5cff40aa-7026-4879-81ab-372c51fa4386",
   "metadata": {},
   "outputs": [],
   "source": [
    "\"\"\"\n",
    "Q5) Describe the methods and tools available in Python for safely sharing data between threads and processes.\n",
    "Answer-\n",
    "    \n",
    "    Tools for Sharing Data Between Threads -\n",
    "    Threads share the same memory, so they can access the same data. However, if multiple threads try to change the same data at the same \n",
    "    time, it can cause problems (race conditions). To prevent this, we use locks and other tools to make sure only one thread can access \n",
    "    the data at a time.\n",
    "    \n",
    "    1) threading.Lock: \n",
    "       A lock is like a key. Before a thread changes shared data, it \"locks\" the data (gets the key). When it's done, it \"unlocks\" the \n",
    "       data (releases the key). This ensures only one thread can modify the data at a time.\n",
    "\n",
    "    2) threading.RLock: This is like a lock, but the same thread can \"lock\" it multiple times without causing issues.\n",
    "\n",
    "    3) threading.Semaphore: It controls how many threads can access a resource at the same time (like letting only 2 threads at once access \n",
    "       a file).\n",
    "\n",
    "    4) threading.Event: It lets one thread wait until another thread signals that something is ready.\n",
    "\n",
    "    5) threading.Condition: This allows threads to wait for a specific condition (like waiting for a list to have data before reading it).\n",
    "    \n",
    "    Tools for Sharing Data Between Processes -\n",
    "    Processes don’t share memory, so they can’t directly access each other’s data. To share data, they need tools to send information to \n",
    "    each other.\n",
    "    1) multiprocessing.Queue: \n",
    "       A queue lets processes send data to each other. One process puts data into the queue, and another process takes it out.\n",
    "\n",
    "    2) multiprocessing.Pipe: \n",
    "       A pipe is like a tube connecting two processes. One process sends data down the pipe, and the other receives it.\n",
    "\n",
    "    3) multiprocessing.Manager: A manager lets processes share more complex data, like lists or dictionaries, in a safe way.\n",
    "\n",
    "    4) multiprocessing.Value and Array: These allow processes to share simple data types like numbers or arrays, with built-in protection \n",
    "       to avoid problems when multiple processes try to change them."
   ]
  },
  {
   "cell_type": "code",
   "execution_count": 8,
   "id": "b44ee170-9b86-4116-903b-04c7ccaa5cf5",
   "metadata": {},
   "outputs": [
    {
     "name": "stdout",
     "output_type": "stream",
     "text": [
      "Added 0, list: [0]\n",
      "Added 1, list: [0, 1]\n",
      "Added 2, list: [0, 1, 2]\n",
      "Added 3, list: [0, 1, 2, 3]\n",
      "Added 4, list: [0, 1, 2, 3, 4]\n",
      "Removed 0, list: [1, 2, 3, 4]\n",
      "Removed 1, list: [2, 3, 4]\n",
      "Removed 2, list: [3, 4]\n",
      "Removed 3, list: [4]\n",
      "Removed 4, list: []\n",
      "Final list: []\n"
     ]
    }
   ],
   "source": [
    "#Example of Sharing Data Between Threads Using threading.Lock\n",
    "\n",
    "import threading\n",
    "\n",
    "shared_list = []\n",
    "\n",
    "# Lock to prevent race conditions\n",
    "lock = threading.Lock()\n",
    "\n",
    "# Function to add numbers to the list\n",
    "def add_to_list():\n",
    "    for i in range(5):\n",
    "        with lock:  \n",
    "            shared_list.append(i)\n",
    "            print(f\"Added {i}, list: {shared_list}\")\n",
    "\n",
    "# Function to remove numbers from the list\n",
    "def remove_from_list():\n",
    "    for i in range(5):\n",
    "        with lock:  \n",
    "            if shared_list:\n",
    "                removed = shared_list.pop(0)\n",
    "                print(f\"Removed {removed}, list: {shared_list}\")\n",
    "\n",
    "thread1 = threading.Thread(target=add_to_list)\n",
    "thread2 = threading.Thread(target=remove_from_list)\n",
    "\n",
    "thread1.start()\n",
    "thread2.start()\n",
    "\n",
    "thread1.join()\n",
    "thread2.join()\n",
    "\n",
    "print(f\"Final list: {shared_list}\")\n",
    "\n",
    "#We use lock to make sure only one thread can add or remove from the shared_list at a time."
   ]
  },
  {
   "cell_type": "code",
   "execution_count": 9,
   "id": "717a7dcd-4d24-42b5-9775-2e83edfffda3",
   "metadata": {},
   "outputs": [
    {
     "name": "stdout",
     "output_type": "stream",
     "text": [
      "Added 0 to queue\n",
      "Added 1 to queue\n",
      "Added 2 to queue\n",
      "Added 3 to queue\n",
      "Added 4 to queue\n",
      "Removed 0 from queue\n",
      "Removed 1 from queue\n",
      "Removed 2 from queue\n",
      "Removed 3 from queue\n",
      "Removed 4 from queue\n"
     ]
    }
   ],
   "source": [
    "#Example of Sharing Data Between Processes Using multiprocessing.Queue\n",
    "from multiprocessing import Process, Queue\n",
    "\n",
    "# Function to add numbers to the queue\n",
    "def add_to_queue(q):\n",
    "    for i in range(5):\n",
    "        q.put(i)  \n",
    "        print(f\"Added {i} to queue\")\n",
    "\n",
    "# Function to remove numbers from the queue\n",
    "def remove_from_queue(q):\n",
    "    while not q.empty():\n",
    "        item = q.get()  \n",
    "        print(f\"Removed {item} from queue\")\n",
    "\n",
    "if __name__ == \"__main__\":\n",
    "    \n",
    "    q = Queue()\n",
    "    \n",
    "    process1 = Process(target=add_to_queue, args=(q,))\n",
    "    process2 = Process(target=remove_from_queue, args=(q,))\n",
    "\n",
    "    process1.start()\n",
    "    process1.join()  \n",
    "\n",
    "    process2.start()\n",
    "    process2.join()  \n",
    "\n",
    "#We use a Queue to safely pass data between processes. One process (process1) adds numbers to the queue, while another process (process2) \n",
    "#removes them. Since the Queue manages the data safely, there are no race conditions."
   ]
  },
  {
   "cell_type": "code",
   "execution_count": null,
   "id": "3cc1efeb-5865-41a4-ab92-395f9e66b31d",
   "metadata": {},
   "outputs": [],
   "source": [
    "\"\"\"\n",
    "6)  Discuss why it’s crucial to handle exceptions in concurrent programs and the techniques available for doing so.\n",
    "Answer-\n",
    "    Following are the reasons why it’s crucial to handle exceptions in concurrent programs -\n",
    "    1) Prevent Crashes in One Thread/Process from Affecting the Whole Program:\n",
    "       If an exception occurs in one thread or process and is not handled, it can cause the program to crash unexpectedly. In multithreaded \n",
    "       programs, an unhandled exception in one thread can bring down the entire program if it’s not caught and managed properly.\n",
    "       In multiprocessing, failure in one process may leave shared resources (such as files or databases) in an inconsistent state.\n",
    "       \n",
    "    2) Avoid Data Corruption:\n",
    "       Exceptions during the modification of shared data can lead to data corruption. For example, if one thread throws an exception while\n",
    "       holding a lock on shared data, and the exception is not properly managed, other threads could be blocked from accessing that data, \n",
    "       leading to a deadlock or inconsistent state.\n",
    "       \n",
    "    3) Ensure Proper Resource Management:\n",
    "       In concurrent programs, resources such as file handles, network connections, or locks need to be properly released. If an exception \n",
    "       occurs and is not handled, these resources might not be released, leading to memory leaks, open file descriptors, or other \n",
    "       resource-related issues.\n",
    "       \n",
    "    4) Graceful Shutdown:\n",
    "       Handling exceptions properly allows the program to shut down gracefully even when some parts of it encounter errors. This ensures \n",
    "       that resources are cleaned up, logs are written, and important state information is preserved."
   ]
  },
  {
   "cell_type": "code",
   "execution_count": 10,
   "id": "c2f7e2ec-8023-4e15-bfa4-3105a47bc4d0",
   "metadata": {},
   "outputs": [
    {
     "name": "stdout",
     "output_type": "stream",
     "text": [
      "Exception caught in thread: An error occurred in thread\n"
     ]
    }
   ],
   "source": [
    "#Techniques for Handling Exceptions in Concurrent Programs:\n",
    "#1. Using try-except Blocks in Threads\n",
    "import threading\n",
    "\n",
    "def task():\n",
    "    try:\n",
    "        raise ValueError(\"An error occurred in thread\")\n",
    "    except Exception as e:\n",
    "        print(f\"Exception caught in thread: {e}\")\n",
    "\n",
    "thread = threading.Thread(target=task)\n",
    "thread.start()\n",
    "thread.join()  \n",
    "\n",
    "#The try-except block is used inside the thread's target function, ensuring that any exceptions are caught and handled locally within the \n",
    "#thread."
   ]
  },
  {
   "cell_type": "code",
   "execution_count": 11,
   "id": "5fade797-586b-4cd4-87ed-5d8c96188f41",
   "metadata": {},
   "outputs": [
    {
     "name": "stdout",
     "output_type": "stream",
     "text": [
      "Exception caught in process: An error occurred in process\n"
     ]
    }
   ],
   "source": [
    "#Using try-except Blocks in Processes\n",
    "from multiprocessing import Process\n",
    "\n",
    "def task():\n",
    "    try:\n",
    "        raise ValueError(\"An error occurred in process\")\n",
    "    except Exception as e:\n",
    "        print(f\"Exception caught in process: {e}\")\n",
    "\n",
    "process = Process(target=task)\n",
    "process.start()\n",
    "process.join()  \n",
    "\n",
    "#In this case, we catch exceptions in the child process to avoid it from failing unexpectedly."
   ]
  },
  {
   "cell_type": "code",
   "execution_count": 12,
   "id": "1ad0f16b-25f2-4289-9314-5ddda4d5df6d",
   "metadata": {},
   "outputs": [
    {
     "name": "stdout",
     "output_type": "stream",
     "text": [
      "Exception caught in thread pool: Error for input 5\n"
     ]
    }
   ],
   "source": [
    "#2) Exception Handling in Thread/Process Pools\n",
    "from concurrent.futures import ThreadPoolExecutor\n",
    "\n",
    "def task(n):\n",
    "    if n == 5:\n",
    "        raise ValueError(f\"Error for input {n}\")\n",
    "    return n * n\n",
    "\n",
    "with ThreadPoolExecutor(max_workers=2) as executor:\n",
    "    future = executor.submit(task, 5)  \n",
    "    try:\n",
    "        result = future.result()  \n",
    "    except Exception as e:\n",
    "        print(f\"Exception caught in thread pool: {e}\")\n",
    "\n",
    "#The executor.submit() method runs a task in the thread pool. If the task raises an exception, calling future.result() will re-raise that \n",
    "#exception in the main thread, allowing us to handle it."
   ]
  },
  {
   "cell_type": "code",
   "execution_count": 13,
   "id": "4c633ab9-eeda-4bc3-aa36-610925e03857",
   "metadata": {},
   "outputs": [
    {
     "name": "stdout",
     "output_type": "stream",
     "text": [
      "Thread took too long, terminating.\n"
     ]
    }
   ],
   "source": [
    "#3) Using Timeouts and Exception Handling\n",
    "import threading\n",
    "\n",
    "def long_running_task():\n",
    "    try:\n",
    "        threading.Event().wait(5)  \n",
    "    except Exception as e:\n",
    "        print(f\"Exception caught: {e}\")\n",
    "\n",
    "thread = threading.Thread(target=long_running_task)\n",
    "thread.start()\n",
    "\n",
    "if thread.is_alive():\n",
    "    print(\"Thread took too long, terminating.\")\n",
    "    \n",
    "#By setting timeouts and handling the exceptions that arise when the timeout occurs, you can ensure that your program remains responsive."
   ]
  },
  {
   "cell_type": "code",
   "execution_count": 14,
   "id": "78a5003d-46da-4c8d-a728-84ecf2cc0220",
   "metadata": {},
   "outputs": [
    {
     "name": "stdout",
     "output_type": "stream",
     "text": [
      "Calculating factorial of 1\n",
      "Calculating factorial of 2\n",
      "Calculating factorial of 3\n",
      "Calculating factorial of 4\n",
      "Calculating factorial of 5\n",
      "Calculating factorial of 6\n",
      "Calculating factorial of 7\n",
      "Calculating factorial of 8\n",
      "Calculating factorial of 9\n",
      "Calculating factorial of 10\n",
      "Factorial of 4 is 24\n",
      "Factorial of 10 is 3628800\n",
      "Factorial of 5 is 120\n",
      "Factorial of 8 is 40320\n",
      "Factorial of 3 is 6\n",
      "Factorial of 1 is 1\n",
      "Factorial of 2 is 2\n",
      "Factorial of 7 is 5040\n",
      "Factorial of 6 is 720\n",
      "Factorial of 9 is 362880\n"
     ]
    }
   ],
   "source": [
    "\"\"\"\n",
    "Q7) Create a program that uses a thread pool to calculate the factorial of numbers from 1 to 10 concurrently. \n",
    "    Use concurrent.futures.ThreadPoolExecutor to manage the threads.\n",
    "Answer-\n",
    "\"\"\"\n",
    "import concurrent.futures\n",
    "import math\n",
    "\n",
    "def factorial(n):\n",
    "    print(f\"Calculating factorial of {n}\")\n",
    "    return math.factorial(n)\n",
    "\n",
    "numbers = range(1, 11)\n",
    "\n",
    "# ThreadPoolExecutor to manage threads\n",
    "with concurrent.futures.ThreadPoolExecutor(max_workers=5) as executor:\n",
    "   \n",
    "    future_to_num = {executor.submit(factorial, num): num for num in numbers}\n",
    "\n",
    "    for future in concurrent.futures.as_completed(future_to_num):\n",
    "        num = future_to_num[future]\n",
    "        try:\n",
    "            result = future.result()\n",
    "            print(f\"Factorial of {num} is {result}\")\n",
    "        except Exception as exc:\n",
    "            print(f\"Generated an exception: {exc}\")"
   ]
  },
  {
   "cell_type": "code",
   "execution_count": 15,
   "id": "deb86072-6cbc-4ea0-aed1-96d62be72ea6",
   "metadata": {},
   "outputs": [
    {
     "name": "stdout",
     "output_type": "stream",
     "text": [
      "\n",
      "Computing squares with a pool of 2 processes:\n",
      "Results: [1, 4, 9, 16, 25, 36, 49, 64, 81, 100]\n",
      "Time taken with pool size 2: 0.0266 seconds\n",
      "\n",
      "Computing squares with a pool of 4 processes:\n",
      "Results: [1, 4, 9, 16, 25, 36, 49, 64, 81, 100]\n",
      "Time taken with pool size 4: 0.0386 seconds\n",
      "\n",
      "Computing squares with a pool of 8 processes:\n",
      "Results: [1, 4, 9, 16, 25, 36, 49, 64, 81, 100]\n",
      "Time taken with pool size 8: 0.0687 seconds\n"
     ]
    }
   ],
   "source": [
    "\"\"\"\n",
    "Q8) Create a Python program that uses multiprocessing.Pool to compute the square of numbers from 1 to 10 in parallel. Measure the time \n",
    "    taken to perform this computation using a pool of different sizes (e.g., 2, 4, 8 processes).\n",
    "Answer-\n",
    "\"\"\"\n",
    "import multiprocessing\n",
    "import time\n",
    "\n",
    "def square(n):\n",
    "    return n * n\n",
    "\n",
    "numbers = list(range(1, 11))\n",
    "\n",
    "def compute_squares(pool_size):\n",
    "    print(f\"\\nComputing squares with a pool of {pool_size} processes:\")\n",
    "\n",
    "    start_time = time.time()\n",
    "\n",
    "    with multiprocessing.Pool(pool_size) as pool:\n",
    "        #the square of each number in parallel\n",
    "        results = pool.map(square, numbers)\n",
    "    \n",
    "    end_time = time.time()\n",
    "    \n",
    "    print(f\"Results: {results}\")\n",
    "    \n",
    "    print(f\"Time taken with pool size {pool_size}: {end_time - start_time:.4f} seconds\")\n",
    "\n",
    "if __name__ == \"__main__\":\n",
    "    # squares with different pool sizes\n",
    "    for pool_size in [2, 4, 8]:\n",
    "        compute_squares(pool_size)"
   ]
  }
 ],
 "metadata": {
  "kernelspec": {
   "display_name": "Python 3 (ipykernel)",
   "language": "python",
   "name": "python3"
  },
  "language_info": {
   "codemirror_mode": {
    "name": "ipython",
    "version": 3
   },
   "file_extension": ".py",
   "mimetype": "text/x-python",
   "name": "python",
   "nbconvert_exporter": "python",
   "pygments_lexer": "ipython3",
   "version": "3.10.8"
  }
 },
 "nbformat": 4,
 "nbformat_minor": 5
}
